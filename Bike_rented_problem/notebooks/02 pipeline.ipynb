{
 "cells": [
  {
   "cell_type": "markdown",
   "id": "a3579f43",
   "metadata": {},
   "source": [
    "## Pipeline"
   ]
  },
  {
   "cell_type": "code",
   "execution_count": 1,
   "id": "4a839aff",
   "metadata": {},
   "outputs": [],
   "source": [
    "import pandas as pd \n",
    "import numpy as np \n",
    "import seaborn as sns \n",
    "import matplotlib.pyplot as plt\n",
    "from sklearn.base import BaseEstimator,TransformerMixin\n",
    "from sklearn.pipeline import Pipeline\n",
    "import joblib\n",
    "\n",
    "np.random.seed(42)\n",
    "sns.set(rc={'figure.figsize':[7,7]},font_scale=1.2)"
   ]
  },
  {
   "cell_type": "code",
   "execution_count": 2,
   "id": "d8191e93",
   "metadata": {},
   "outputs": [],
   "source": [
    "df=pd.read_pickle('processed_2.pickle') \n",
    "df_train=pd.read_csv('training_data.csv')\n",
    "df_test=pd.read_csv('testing_data.csv')"
   ]
  },
  {
   "cell_type": "code",
   "execution_count": 3,
   "id": "fb7929f3",
   "metadata": {},
   "outputs": [],
   "source": [
    "class feature_engineering(BaseEstimator,TransformerMixin) : \n",
    "    def __init__(self,date_format='%Y-%m-%d %H:%M:%S',season_dict={1:'spring',2:'summer',3:'fall',4:'winter'},\n",
    "                                    weather_dict={1:'Clear',2:'Cloudy',3:'Snow'}) :\n",
    "        self.date_format=date_format\n",
    "        self.season_dict=season_dict\n",
    "        self.weather_dict=weather_dict\n",
    "        \n",
    "    def fit(self,X,y=None) : \n",
    "        return self \n",
    "    \n",
    "    def transform(self,X,y=None) :  \n",
    "        X_copy=X.copy()\n",
    "        X_copy['datetime']=pd.to_datetime(X_copy['datetime'],format=self.date_format,errors='coerce')\n",
    "        X_copy['year']=X_copy['datetime'].dt.year\n",
    "        X_copy['month_name'] = X_copy['datetime'].dt.month_name()\n",
    "        X_copy['day_of_week'] = X_copy['datetime'].dt.day_name() \n",
    "        X_copy['hour'] = X_copy['datetime'].dt.hour  \n",
    "        X_copy.drop(columns=['datetime'], inplace=True) \n",
    "        X_copy['weather']=X_copy['weather'].replace(self.weather_dict)\n",
    "        X_copy['season']=X_copy['season'].replace(self.season_dict) \n",
    "        X_copy['is_rush_hour']=X_copy['hour'].isin([17,18,8,19,16,7,9]).astype('category')\n",
    "        X_copy['is_weekend']=X_copy['day_of_week'].isin(['Saturday','Sunday']).astype('category')\n",
    "        \n",
    "        return X_copy"
   ]
  },
  {
   "cell_type": "code",
   "execution_count": 4,
   "id": "856220e4",
   "metadata": {},
   "outputs": [],
   "source": [
    "class select_features(BaseEstimator,TransformerMixin) : \n",
    "    def __init__(self,num_features=['temp','humidity','windspeed'],cat_features=['season','holiday', 'workingday', 'weather','hour' ,'month_name', 'day_of_week','is_rush_hour','is_weekend']) : \n",
    "        self.num_features=num_features\n",
    "        self.cat_features=cat_features\n",
    "    \n",
    "    def fit(self,X,y=None) : \n",
    "        return self \n",
    "    \n",
    "    def transform(self,X,y=None) : \n",
    "        X=X[self.num_features+self.cat_features]\n",
    "        for col in self.num_features : \n",
    "            X[col]=X[col].astype('float64')\n",
    "        for col in self.cat_features : \n",
    "            X[col]=X[col].astype('category')\n",
    "        return X"
   ]
  },
  {
   "cell_type": "code",
   "execution_count": 5,
   "id": "a061d801",
   "metadata": {},
   "outputs": [],
   "source": [
    "add_new_features=feature_engineering()"
   ]
  },
  {
   "cell_type": "code",
   "execution_count": 6,
   "id": "1ea6f4aa",
   "metadata": {},
   "outputs": [],
   "source": [
    "pick_features=select_features()"
   ]
  },
  {
   "cell_type": "code",
   "execution_count": 7,
   "id": "c11f396b",
   "metadata": {},
   "outputs": [],
   "source": [
    "preprocessor=joblib.load('preprocessor.pickle')"
   ]
  },
  {
   "cell_type": "markdown",
   "id": "648497e9",
   "metadata": {},
   "source": [
    "**Now you can use this pipeline directly on raw training and testing datasets** \n",
    "\n",
    "**This pipeline prepare raw data directly to fed to machine learning model enjoy!!**"
   ]
  },
  {
   "cell_type": "code",
   "execution_count": null,
   "id": "00edb247",
   "metadata": {},
   "outputs": [],
   "source": []
  }
 ],
 "metadata": {
  "kernelspec": {
   "display_name": "Python 3 (ipykernel)",
   "language": "python",
   "name": "python3"
  },
  "language_info": {
   "codemirror_mode": {
    "name": "ipython",
    "version": 3
   },
   "file_extension": ".py",
   "mimetype": "text/x-python",
   "name": "python",
   "nbconvert_exporter": "python",
   "pygments_lexer": "ipython3",
   "version": "3.10.9"
  }
 },
 "nbformat": 4,
 "nbformat_minor": 5
}
