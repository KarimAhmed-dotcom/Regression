{
 "cells": [
  {
   "cell_type": "markdown",
   "id": "f4d316d1",
   "metadata": {},
   "source": [
    "## Preprocessing"
   ]
  },
  {
   "cell_type": "code",
   "execution_count": 1,
   "id": "4738b53d",
   "metadata": {},
   "outputs": [],
   "source": [
    "import pandas as pd \n",
    "import numpy as np \n",
    "import seaborn as sns \n",
    "import matplotlib.pyplot as plt\n",
    "from sklearn.compose import make_column_transformer\n",
    "from sklearn.preprocessing import OrdinalEncoder\n",
    "from sklearn.pipeline import Pipeline\n",
    "from sklearn.preprocessing import StandardScaler\n",
    "\n",
    "np.random.seed(42)\n",
    "sns.set(rc={'figure.figsize':[7,7]},font_scale=1.2)"
   ]
  },
  {
   "cell_type": "code",
   "execution_count": 2,
   "id": "cc8a6b10",
   "metadata": {},
   "outputs": [],
   "source": [
    "df=pd.read_pickle('processed_1.pickle')"
   ]
  },
  {
   "cell_type": "code",
   "execution_count": 3,
   "id": "b24f72a1",
   "metadata": {},
   "outputs": [],
   "source": [
    "df_train=pd.read_csv('training_data.csv')\n",
    "df_test=pd.read_csv('testing_data.csv')"
   ]
  },
  {
   "cell_type": "code",
   "execution_count": 4,
   "id": "1c7b250d",
   "metadata": {},
   "outputs": [
    {
     "data": {
      "text/html": [
       "<div>\n",
       "<style scoped>\n",
       "    .dataframe tbody tr th:only-of-type {\n",
       "        vertical-align: middle;\n",
       "    }\n",
       "\n",
       "    .dataframe tbody tr th {\n",
       "        vertical-align: top;\n",
       "    }\n",
       "\n",
       "    .dataframe thead th {\n",
       "        text-align: right;\n",
       "    }\n",
       "</style>\n",
       "<table border=\"1\" class=\"dataframe\">\n",
       "  <thead>\n",
       "    <tr style=\"text-align: right;\">\n",
       "      <th></th>\n",
       "      <th>datetime</th>\n",
       "      <th>season</th>\n",
       "      <th>holiday</th>\n",
       "      <th>workingday</th>\n",
       "      <th>weather</th>\n",
       "      <th>temp</th>\n",
       "      <th>atemp</th>\n",
       "      <th>humidity</th>\n",
       "      <th>windspeed</th>\n",
       "      <th>casual</th>\n",
       "      <th>registered</th>\n",
       "      <th>count</th>\n",
       "      <th>year</th>\n",
       "      <th>month_name</th>\n",
       "      <th>month</th>\n",
       "      <th>day_of_week</th>\n",
       "      <th>hour</th>\n",
       "      <th>is_rush_hour</th>\n",
       "      <th>is_weekend</th>\n",
       "    </tr>\n",
       "  </thead>\n",
       "  <tbody>\n",
       "    <tr>\n",
       "      <th>10378</th>\n",
       "      <td>2012-11-17 20:00:00</td>\n",
       "      <td>winter</td>\n",
       "      <td>0</td>\n",
       "      <td>0</td>\n",
       "      <td>Cloudy</td>\n",
       "      <td>13.94</td>\n",
       "      <td>17.425</td>\n",
       "      <td>66</td>\n",
       "      <td>6.0032</td>\n",
       "      <td>30</td>\n",
       "      <td>142</td>\n",
       "      <td>172</td>\n",
       "      <td>2012</td>\n",
       "      <td>November</td>\n",
       "      <td>11</td>\n",
       "      <td>Saturday</td>\n",
       "      <td>20</td>\n",
       "      <td>0</td>\n",
       "      <td>1</td>\n",
       "    </tr>\n",
       "    <tr>\n",
       "      <th>2815</th>\n",
       "      <td>2011-07-06 05:00:00</td>\n",
       "      <td>fall</td>\n",
       "      <td>0</td>\n",
       "      <td>1</td>\n",
       "      <td>Clear</td>\n",
       "      <td>27.88</td>\n",
       "      <td>31.820</td>\n",
       "      <td>83</td>\n",
       "      <td>6.0032</td>\n",
       "      <td>5</td>\n",
       "      <td>30</td>\n",
       "      <td>35</td>\n",
       "      <td>2011</td>\n",
       "      <td>July</td>\n",
       "      <td>7</td>\n",
       "      <td>Wednesday</td>\n",
       "      <td>5</td>\n",
       "      <td>0</td>\n",
       "      <td>0</td>\n",
       "    </tr>\n",
       "    <tr>\n",
       "      <th>8695</th>\n",
       "      <td>2012-08-04 16:00:00</td>\n",
       "      <td>fall</td>\n",
       "      <td>0</td>\n",
       "      <td>0</td>\n",
       "      <td>Clear</td>\n",
       "      <td>36.90</td>\n",
       "      <td>40.910</td>\n",
       "      <td>39</td>\n",
       "      <td>19.9995</td>\n",
       "      <td>197</td>\n",
       "      <td>253</td>\n",
       "      <td>450</td>\n",
       "      <td>2012</td>\n",
       "      <td>August</td>\n",
       "      <td>8</td>\n",
       "      <td>Saturday</td>\n",
       "      <td>16</td>\n",
       "      <td>1</td>\n",
       "      <td>1</td>\n",
       "    </tr>\n",
       "    <tr>\n",
       "      <th>9026</th>\n",
       "      <td>2012-08-18 11:00:00</td>\n",
       "      <td>fall</td>\n",
       "      <td>0</td>\n",
       "      <td>0</td>\n",
       "      <td>Clear</td>\n",
       "      <td>29.52</td>\n",
       "      <td>33.335</td>\n",
       "      <td>51</td>\n",
       "      <td>0.0000</td>\n",
       "      <td>180</td>\n",
       "      <td>356</td>\n",
       "      <td>536</td>\n",
       "      <td>2012</td>\n",
       "      <td>August</td>\n",
       "      <td>8</td>\n",
       "      <td>Saturday</td>\n",
       "      <td>11</td>\n",
       "      <td>0</td>\n",
       "      <td>1</td>\n",
       "    </tr>\n",
       "    <tr>\n",
       "      <th>1543</th>\n",
       "      <td>2011-04-10 04:00:00</td>\n",
       "      <td>summer</td>\n",
       "      <td>0</td>\n",
       "      <td>0</td>\n",
       "      <td>Cloudy</td>\n",
       "      <td>14.76</td>\n",
       "      <td>18.180</td>\n",
       "      <td>93</td>\n",
       "      <td>7.0015</td>\n",
       "      <td>3</td>\n",
       "      <td>2</td>\n",
       "      <td>5</td>\n",
       "      <td>2011</td>\n",
       "      <td>April</td>\n",
       "      <td>4</td>\n",
       "      <td>Sunday</td>\n",
       "      <td>4</td>\n",
       "      <td>0</td>\n",
       "      <td>1</td>\n",
       "    </tr>\n",
       "  </tbody>\n",
       "</table>\n",
       "</div>"
      ],
      "text/plain": [
       "                 datetime  season  holiday  workingday weather   temp   atemp  \\\n",
       "10378 2012-11-17 20:00:00  winter        0           0  Cloudy  13.94  17.425   \n",
       "2815  2011-07-06 05:00:00    fall        0           1   Clear  27.88  31.820   \n",
       "8695  2012-08-04 16:00:00    fall        0           0   Clear  36.90  40.910   \n",
       "9026  2012-08-18 11:00:00    fall        0           0   Clear  29.52  33.335   \n",
       "1543  2011-04-10 04:00:00  summer        0           0  Cloudy  14.76  18.180   \n",
       "\n",
       "       humidity  windspeed  casual  registered  count  year month_name  month  \\\n",
       "10378        66     6.0032      30         142    172  2012   November     11   \n",
       "2815         83     6.0032       5          30     35  2011       July      7   \n",
       "8695         39    19.9995     197         253    450  2012     August      8   \n",
       "9026         51     0.0000     180         356    536  2012     August      8   \n",
       "1543         93     7.0015       3           2      5  2011      April      4   \n",
       "\n",
       "      day_of_week  hour  is_rush_hour  is_weekend  \n",
       "10378    Saturday    20             0           1  \n",
       "2815    Wednesday     5             0           0  \n",
       "8695     Saturday    16             1           1  \n",
       "9026     Saturday    11             0           1  \n",
       "1543       Sunday     4             0           1  "
      ]
     },
     "execution_count": 4,
     "metadata": {},
     "output_type": "execute_result"
    }
   ],
   "source": [
    "df.head()"
   ]
  },
  {
   "cell_type": "code",
   "execution_count": 5,
   "id": "6814b414",
   "metadata": {},
   "outputs": [],
   "source": [
    "cat_features=['season', 'holiday', 'workingday', 'weather','hour' ,'month_name', 'day_of_week','is_rush_hour','is_weekend']"
   ]
  },
  {
   "cell_type": "code",
   "execution_count": 6,
   "id": "217a5522",
   "metadata": {},
   "outputs": [],
   "source": [
    "num_features=['temp','humidity','windspeed']"
   ]
  },
  {
   "cell_type": "code",
   "execution_count": 7,
   "id": "99ed9b4f",
   "metadata": {},
   "outputs": [],
   "source": [
    "df=df[num_features+cat_features+['casual','registered']]"
   ]
  },
  {
   "cell_type": "code",
   "execution_count": 8,
   "id": "34a18ba0",
   "metadata": {},
   "outputs": [],
   "source": [
    "#correct dtypes\n",
    "df['temp']=df['temp'].astype('float64')\n",
    "df['humidity']=df['humidity'].astype('float64')\n",
    "df['windspeed']=df['windspeed'].astype('float64')"
   ]
  },
  {
   "cell_type": "code",
   "execution_count": 9,
   "id": "02cfa260",
   "metadata": {},
   "outputs": [],
   "source": [
    "#to ensure that all numeric features has number values without any errors \n",
    "for col in num_features : \n",
    "    df[col]=pd.to_numeric(df[col],errors='coerce')"
   ]
  },
  {
   "cell_type": "code",
   "execution_count": 10,
   "id": "0094b02a",
   "metadata": {},
   "outputs": [],
   "source": [
    "#correct dtypes\n",
    "for col in cat_features : \n",
    "    df[col]=df[col].astype('category')"
   ]
  },
  {
   "cell_type": "code",
   "execution_count": 11,
   "id": "acf281bd",
   "metadata": {},
   "outputs": [
    {
     "name": "stdout",
     "output_type": "stream",
     "text": [
      ">>> season <<<\n",
      "summer    2201\n",
      "winter    2196\n",
      "fall      2182\n",
      "spring    2129\n",
      "Name: season, dtype: int64\n",
      "================\n",
      ">>> holiday <<<\n",
      "0    8458\n",
      "1     250\n",
      "Name: holiday, dtype: int64\n",
      "================\n",
      ">>> workingday <<<\n",
      "1    5924\n",
      "0    2784\n",
      "Name: workingday, dtype: int64\n",
      "================\n",
      ">>> weather <<<\n",
      "Clear     5757\n",
      "Cloudy    2266\n",
      "Snow       685\n",
      "Name: weather, dtype: int64\n",
      "================\n",
      ">>> hour <<<\n",
      "23    379\n",
      "17    378\n",
      "15    376\n",
      "22    372\n",
      "0     370\n",
      "2     369\n",
      "10    369\n",
      "5     366\n",
      "16    366\n",
      "18    366\n",
      "9     365\n",
      "19    364\n",
      "14    364\n",
      "11    360\n",
      "8     360\n",
      "12    358\n",
      "13    357\n",
      "7     356\n",
      "4     355\n",
      "20    354\n",
      "6     353\n",
      "21    352\n",
      "1     351\n",
      "3     348\n",
      "Name: hour, dtype: int64\n",
      "================\n",
      ">>> month_name <<<\n",
      "November     749\n",
      "May          745\n",
      "August       737\n",
      "June         729\n",
      "July         728\n",
      "April        727\n",
      "October      727\n",
      "February     726\n",
      "December     720\n",
      "September    717\n",
      "March        710\n",
      "January      693\n",
      "Name: month_name, dtype: int64\n",
      "================\n",
      ">>> day_of_week <<<\n",
      "Sunday       1269\n",
      "Saturday     1265\n",
      "Friday       1247\n",
      "Tuesday      1244\n",
      "Thursday     1231\n",
      "Wednesday    1229\n",
      "Monday       1223\n",
      "Name: day_of_week, dtype: int64\n",
      "================\n",
      ">>> is_rush_hour <<<\n",
      "0    6153\n",
      "1    2555\n",
      "Name: is_rush_hour, dtype: int64\n",
      "================\n",
      ">>> is_weekend <<<\n",
      "0    6174\n",
      "1    2534\n",
      "Name: is_weekend, dtype: int64\n",
      "================\n"
     ]
    }
   ],
   "source": [
    "#use 'unique' function to check any invalid value in categorical columns \n",
    "for col in cat_features : \n",
    "    print(f'>>> {col} <<<') \n",
    "    print(df[col].value_counts()) # or unique \n",
    "    print('================')"
   ]
  },
  {
   "cell_type": "markdown",
   "id": "2d84a419",
   "metadata": {},
   "source": [
    "- Done we don't have any incorrect values !!"
   ]
  },
  {
   "cell_type": "markdown",
   "id": "cd0f671d",
   "metadata": {},
   "source": [
    "**Work With Missing Data**"
   ]
  },
  {
   "cell_type": "code",
   "execution_count": 12,
   "id": "07e37e48",
   "metadata": {},
   "outputs": [
    {
     "data": {
      "text/plain": [
       "temp            0\n",
       "humidity        0\n",
       "windspeed       0\n",
       "season          0\n",
       "holiday         0\n",
       "workingday      0\n",
       "weather         0\n",
       "hour            0\n",
       "month_name      0\n",
       "day_of_week     0\n",
       "is_rush_hour    0\n",
       "is_weekend      0\n",
       "casual          0\n",
       "registered      0\n",
       "dtype: int64"
      ]
     },
     "execution_count": 12,
     "metadata": {},
     "output_type": "execute_result"
    }
   ],
   "source": [
    "df.isnull().sum()"
   ]
  },
  {
   "cell_type": "markdown",
   "id": "fbfa221b",
   "metadata": {},
   "source": [
    "- Done we don't have any nan values !!"
   ]
  },
  {
   "cell_type": "markdown",
   "id": "50a4d932",
   "metadata": {},
   "source": [
    "**working with categorical data**"
   ]
  },
  {
   "cell_type": "code",
   "execution_count": 13,
   "id": "e3b7d437",
   "metadata": {},
   "outputs": [],
   "source": [
    "ord_encoder=OrdinalEncoder()"
   ]
  },
  {
   "cell_type": "code",
   "execution_count": 14,
   "id": "42dc4116",
   "metadata": {},
   "outputs": [],
   "source": [
    "categorical_transformer=Pipeline(steps=[\n",
    "    ('ordinal_encoding', ord_encoder)])"
   ]
  },
  {
   "cell_type": "markdown",
   "id": "03444ebc",
   "metadata": {},
   "source": [
    "**working with numerical data**"
   ]
  },
  {
   "cell_type": "code",
   "execution_count": 15,
   "id": "611e21b8",
   "metadata": {},
   "outputs": [],
   "source": [
    "scaler=StandardScaler()"
   ]
  },
  {
   "cell_type": "code",
   "execution_count": 16,
   "id": "549d6b00",
   "metadata": {},
   "outputs": [],
   "source": [
    "numeric_transformer=Pipeline(steps=[('scaling',scaler)])"
   ]
  },
  {
   "cell_type": "markdown",
   "id": "36d73882",
   "metadata": {},
   "source": [
    "**making pipeline**"
   ]
  },
  {
   "cell_type": "code",
   "execution_count": 17,
   "id": "adea51e8",
   "metadata": {},
   "outputs": [],
   "source": [
    "preprocessor = make_column_transformer(\n",
    "    (numeric_transformer, [0, 1, 2]),\n",
    "    (categorical_transformer, [3, 4, 5, 6, 7, 8, 9, 10, 11]),\n",
    "    remainder='passthrough'\n",
    ")"
   ]
  },
  {
   "cell_type": "markdown",
   "id": "5a1761f9",
   "metadata": {},
   "source": [
    "**Split data**"
   ]
  },
  {
   "cell_type": "code",
   "execution_count": 18,
   "id": "2553d549",
   "metadata": {},
   "outputs": [],
   "source": [
    "X_train=df.drop(['casual','registered'],axis=1) \n",
    "y_train=df[['casual','registered']]"
   ]
  },
  {
   "cell_type": "code",
   "execution_count": 19,
   "id": "bf76bc5b",
   "metadata": {},
   "outputs": [],
   "source": [
    "X_test=df_test.drop(['casual','registered','count'],axis=1) \n",
    "y_test=df_test[['casual','registered']]"
   ]
  },
  {
   "cell_type": "code",
   "execution_count": 20,
   "id": "3b27ea54",
   "metadata": {},
   "outputs": [],
   "source": [
    "X_train_trans=pd.DataFrame(preprocessor.fit_transform(X_train),columns=num_features+cat_features)"
   ]
  },
  {
   "cell_type": "code",
   "execution_count": 21,
   "id": "0cdc3807",
   "metadata": {},
   "outputs": [
    {
     "data": {
      "text/html": [
       "<div>\n",
       "<style scoped>\n",
       "    .dataframe tbody tr th:only-of-type {\n",
       "        vertical-align: middle;\n",
       "    }\n",
       "\n",
       "    .dataframe tbody tr th {\n",
       "        vertical-align: top;\n",
       "    }\n",
       "\n",
       "    .dataframe thead th {\n",
       "        text-align: right;\n",
       "    }\n",
       "</style>\n",
       "<table border=\"1\" class=\"dataframe\">\n",
       "  <thead>\n",
       "    <tr style=\"text-align: right;\">\n",
       "      <th></th>\n",
       "      <th>temp</th>\n",
       "      <th>humidity</th>\n",
       "      <th>windspeed</th>\n",
       "      <th>season</th>\n",
       "      <th>holiday</th>\n",
       "      <th>workingday</th>\n",
       "      <th>weather</th>\n",
       "      <th>hour</th>\n",
       "      <th>month_name</th>\n",
       "      <th>day_of_week</th>\n",
       "      <th>is_rush_hour</th>\n",
       "      <th>is_weekend</th>\n",
       "    </tr>\n",
       "  </thead>\n",
       "  <tbody>\n",
       "    <tr>\n",
       "      <th>0</th>\n",
       "      <td>-0.810848</td>\n",
       "      <td>0.218929</td>\n",
       "      <td>-0.834323</td>\n",
       "      <td>3.0</td>\n",
       "      <td>0.0</td>\n",
       "      <td>0.0</td>\n",
       "      <td>1.0</td>\n",
       "      <td>20.0</td>\n",
       "      <td>9.0</td>\n",
       "      <td>2.0</td>\n",
       "      <td>0.0</td>\n",
       "      <td>1.0</td>\n",
       "    </tr>\n",
       "    <tr>\n",
       "      <th>1</th>\n",
       "      <td>0.982374</td>\n",
       "      <td>1.100479</td>\n",
       "      <td>-0.834323</td>\n",
       "      <td>0.0</td>\n",
       "      <td>0.0</td>\n",
       "      <td>1.0</td>\n",
       "      <td>0.0</td>\n",
       "      <td>5.0</td>\n",
       "      <td>5.0</td>\n",
       "      <td>6.0</td>\n",
       "      <td>0.0</td>\n",
       "      <td>0.0</td>\n",
       "    </tr>\n",
       "    <tr>\n",
       "      <th>2</th>\n",
       "      <td>2.142695</td>\n",
       "      <td>-1.181181</td>\n",
       "      <td>0.868389</td>\n",
       "      <td>0.0</td>\n",
       "      <td>0.0</td>\n",
       "      <td>0.0</td>\n",
       "      <td>0.0</td>\n",
       "      <td>16.0</td>\n",
       "      <td>1.0</td>\n",
       "      <td>2.0</td>\n",
       "      <td>1.0</td>\n",
       "      <td>1.0</td>\n",
       "    </tr>\n",
       "    <tr>\n",
       "      <th>3</th>\n",
       "      <td>1.193342</td>\n",
       "      <td>-0.558910</td>\n",
       "      <td>-1.564639</td>\n",
       "      <td>0.0</td>\n",
       "      <td>0.0</td>\n",
       "      <td>0.0</td>\n",
       "      <td>0.0</td>\n",
       "      <td>11.0</td>\n",
       "      <td>1.0</td>\n",
       "      <td>2.0</td>\n",
       "      <td>0.0</td>\n",
       "      <td>1.0</td>\n",
       "    </tr>\n",
       "    <tr>\n",
       "      <th>4</th>\n",
       "      <td>-0.705364</td>\n",
       "      <td>1.619038</td>\n",
       "      <td>-0.712876</td>\n",
       "      <td>2.0</td>\n",
       "      <td>0.0</td>\n",
       "      <td>0.0</td>\n",
       "      <td>1.0</td>\n",
       "      <td>4.0</td>\n",
       "      <td>0.0</td>\n",
       "      <td>3.0</td>\n",
       "      <td>0.0</td>\n",
       "      <td>1.0</td>\n",
       "    </tr>\n",
       "  </tbody>\n",
       "</table>\n",
       "</div>"
      ],
      "text/plain": [
       "       temp  humidity  windspeed  season  holiday  workingday  weather  hour  \\\n",
       "0 -0.810848  0.218929  -0.834323     3.0      0.0         0.0      1.0  20.0   \n",
       "1  0.982374  1.100479  -0.834323     0.0      0.0         1.0      0.0   5.0   \n",
       "2  2.142695 -1.181181   0.868389     0.0      0.0         0.0      0.0  16.0   \n",
       "3  1.193342 -0.558910  -1.564639     0.0      0.0         0.0      0.0  11.0   \n",
       "4 -0.705364  1.619038  -0.712876     2.0      0.0         0.0      1.0   4.0   \n",
       "\n",
       "   month_name  day_of_week  is_rush_hour  is_weekend  \n",
       "0         9.0          2.0           0.0         1.0  \n",
       "1         5.0          6.0           0.0         0.0  \n",
       "2         1.0          2.0           1.0         1.0  \n",
       "3         1.0          2.0           0.0         1.0  \n",
       "4         0.0          3.0           0.0         1.0  "
      ]
     },
     "execution_count": 21,
     "metadata": {},
     "output_type": "execute_result"
    }
   ],
   "source": [
    "X_train_trans.head()"
   ]
  },
  {
   "cell_type": "markdown",
   "id": "8d726116",
   "metadata": {},
   "source": [
    "- now data is ready for machine learning model !."
   ]
  },
  {
   "cell_type": "code",
   "execution_count": 22,
   "id": "b68e3686",
   "metadata": {},
   "outputs": [],
   "source": [
    "pd.to_pickle(X_train_trans,'processed_2.pickle')"
   ]
  }
 ],
 "metadata": {
  "kernelspec": {
   "display_name": "Python 3 (ipykernel)",
   "language": "python",
   "name": "python3"
  },
  "language_info": {
   "codemirror_mode": {
    "name": "ipython",
    "version": 3
   },
   "file_extension": ".py",
   "mimetype": "text/x-python",
   "name": "python",
   "nbconvert_exporter": "python",
   "pygments_lexer": "ipython3",
   "version": "3.10.9"
  }
 },
 "nbformat": 4,
 "nbformat_minor": 5
}
